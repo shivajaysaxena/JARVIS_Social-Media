{
  "nbformat": 4,
  "nbformat_minor": 0,
  "metadata": {
    "colab": {
      "provenance": []
    },
    "kernelspec": {
      "name": "python3",
      "display_name": "Python 3"
    },
    "language_info": {
      "name": "python"
    }
  },
  "cells": [
    {
      "cell_type": "code",
      "execution_count": 6,
      "metadata": {
        "colab": {
          "base_uri": "https://localhost:8080/"
        },
        "id": "-sZ6UhPUhlTi",
        "outputId": "0a3c285f-c161-4ab2-a74b-f69c1a90e937"
      },
      "outputs": [
        {
          "output_type": "stream",
          "name": "stdout",
          "text": [
            "Accuracy: 90.00%\n",
            "Prediction for the statement: 'Can I get some weed, maybe an ounce?' is: Trafficking\n"
          ]
        },
        {
          "output_type": "stream",
          "name": "stderr",
          "text": [
            "/usr/local/lib/python3.10/dist-packages/xgboost/core.py:158: UserWarning: [18:03:01] WARNING: /workspace/src/learner.cc:740: \n",
            "Parameters: { \"use_label_encoder\" } are not used.\n",
            "\n",
            "  warnings.warn(smsg, UserWarning)\n"
          ]
        }
      ],
      "source": [
        "import pandas as pd\n",
        "from sklearn.model_selection import train_test_split\n",
        "from sklearn.feature_extraction.text import TfidfVectorizer\n",
        "from sklearn.preprocessing import LabelEncoder\n",
        "from sklearn.metrics import accuracy_score, classification_report\n",
        "import xgboost as xgb\n",
        "\n",
        "# Load the dataset\n",
        "file_path = 'data.csv'\n",
        "data = pd.read_csv(file_path)\n",
        "\n",
        "# Preprocess the data: Text feature and Category label\n",
        "X = data['Text']\n",
        "y = data['Category']\n",
        "\n",
        "# Convert the text data into numerical features using TF-IDF\n",
        "vectorizer = TfidfVectorizer(stop_words='english')\n",
        "X_transformed = vectorizer.fit_transform(X)\n",
        "\n",
        "# Encode the labels (Trafficking = 1, Not Trafficking = 0)\n",
        "label_encoder = LabelEncoder()\n",
        "y_encoded = label_encoder.fit_transform(y)\n",
        "\n",
        "# Split the data into training and testing sets\n",
        "X_train, X_test, y_train, y_test = train_test_split(X_transformed, y_encoded, test_size=0.2, random_state=42)\n",
        "\n",
        "# Train an XGBoost classifier\n",
        "model = xgb.XGBClassifier(use_label_encoder=False, eval_metric='logloss')\n",
        "model.fit(X_train, y_train)\n",
        "\n",
        "# Predict on the test set\n",
        "y_pred = model.predict(X_test)\n",
        "\n",
        "# Evaluate the model\n",
        "accuracy = accuracy_score(y_test, y_pred)\n",
        "# report = classification_report(y_test, y_pred, target_names=label_encoder.classes_)\n",
        "\n",
        "print(f\"Accuracy: {accuracy * 100:.2f}%\")\n",
        "# print(\"\\nClassification Report:\\n\", report)\n",
        "\n",
        "# Function to predict if a statement is trafficking-related\n",
        "def predict_trafficking(statement):\n",
        "    statement_transformed = vectorizer.transform([statement])\n",
        "    prediction = model.predict(statement_transformed)\n",
        "    prediction_label = label_encoder.inverse_transform(prediction)\n",
        "    return prediction_label[0]\n",
        "\n",
        "# Example usage:\n",
        "statement = \"Can I get some weed, maybe an ounce?\"\n",
        "print(f\"Prediction for the statement: '{statement}' is: {predict_trafficking(statement)}\")\n"
      ]
    }
  ]
}