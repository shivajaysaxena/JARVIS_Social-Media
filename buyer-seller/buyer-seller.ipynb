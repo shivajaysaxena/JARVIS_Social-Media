{
  "nbformat": 4,
  "nbformat_minor": 0,
  "metadata": {
    "colab": {
      "provenance": []
    },
    "kernelspec": {
      "name": "python3",
      "display_name": "Python 3"
    },
    "language_info": {
      "name": "python"
    }
  },
  "cells": [
    {
      "cell_type": "code",
      "execution_count": 3,
      "metadata": {
        "colab": {
          "base_uri": "https://localhost:8080/"
        },
        "id": "AwQ8-bWGu69L",
        "outputId": "6738d0a8-3423-4490-b84b-c8e912bfb6b4"
      },
      "outputs": [
        {
          "output_type": "stream",
          "name": "stdout",
          "text": [
            "Accuracy: 85.00%\n",
            "Classification Report:\n",
            "               precision    recall  f1-score   support\n",
            "\n",
            "       buyer       0.80      1.00      0.89        12\n",
            "      seller       1.00      0.62      0.77         8\n",
            "\n",
            "    accuracy                           0.85        20\n",
            "   macro avg       0.90      0.81      0.83        20\n",
            "weighted avg       0.88      0.85      0.84        20\n",
            "\n",
            "Phrase: 'Can you do a bulk deal?' is classified as: buyer\n",
            "Phrase: 'I’ll bring the best product.' is classified as: seller\n"
          ]
        }
      ],
      "source": [
        "import pandas as pd\n",
        "from sklearn.model_selection import train_test_split\n",
        "from sklearn.feature_extraction.text import CountVectorizer\n",
        "from sklearn.naive_bayes import MultinomialNB\n",
        "from sklearn.metrics import accuracy_score, classification_report\n",
        "\n",
        "# Load the data\n",
        "file_path = 'data.csv'  # Replace with the path to your file\n",
        "data = pd.read_csv(file_path)\n",
        "\n",
        "# Reshape data into a 'text' and 'label' format\n",
        "buyer_data = pd.DataFrame({\n",
        "    'text': data['buyer_phrases'],\n",
        "    'label': 'buyer'\n",
        "})\n",
        "\n",
        "seller_data = pd.DataFrame({\n",
        "    'text': data['seller_phrases'],\n",
        "    'label': 'seller'\n",
        "})\n",
        "\n",
        "# Combine into a single dataset\n",
        "classification_data = pd.concat([buyer_data, seller_data], ignore_index=True)\n",
        "\n",
        "# Split the data into training and test sets\n",
        "X_train, X_test, y_train, y_test = train_test_split(\n",
        "    classification_data['text'], classification_data['label'], test_size=0.2, random_state=42\n",
        ")\n",
        "\n",
        "# Convert text data to a bag-of-words representation\n",
        "vectorizer = CountVectorizer()\n",
        "X_train_vec = vectorizer.fit_transform(X_train)\n",
        "X_test_vec = vectorizer.transform(X_test)\n",
        "\n",
        "# Initialize and train a Naive Bayes classifier\n",
        "model = MultinomialNB()\n",
        "model.fit(X_train_vec, y_train)\n",
        "\n",
        "# Predict on the test set\n",
        "y_pred = model.predict(X_test_vec)\n",
        "\n",
        "# Evaluate the model\n",
        "accuracy = accuracy_score(y_test, y_pred)\n",
        "classification_rep = classification_report(y_test, y_pred)\n",
        "\n",
        "# Print the results\n",
        "print(f'Accuracy: {accuracy * 100:.2f}%')\n",
        "print('Classification Report:\\n', classification_rep)\n",
        "\n",
        "# Example: Predicting the category of a custom text phrase\n",
        "example_text = [\"Can you do a bulk deal?\", \"I’ll bring the best product.\"]\n",
        "\n",
        "# Transform the example text using the same vectorizer\n",
        "example_text_vec = vectorizer.transform(example_text)\n",
        "\n",
        "# Predict and display the results\n",
        "predictions = model.predict(example_text_vec)\n",
        "for text, prediction in zip(example_text, predictions):\n",
        "    print(f\"Phrase: '{text}' is classified as: {prediction}\")\n"
      ]
    }
  ]
}